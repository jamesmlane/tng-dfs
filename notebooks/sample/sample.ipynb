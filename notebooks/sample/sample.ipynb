{
 "cells": [
  {
   "cell_type": "code",
   "execution_count": null,
   "metadata": {},
   "outputs": [],
   "source": [
    "# ------------------------------------------------------------------------\n",
    "#\n",
    "# TITLE -\n",
    "# AUTHOR - James Lane\n",
    "# PROJECT - sample_project\n",
    "#\n",
    "# ------------------------------------------------------------------------\n",
    "#\n",
    "# Docstrings and metadata:\n",
    "'''\n",
    "'''\n",
    "\n",
    "__author__ = \"James Lane\""
   ]
  },
  {
   "cell_type": "code",
   "execution_count": null,
   "metadata": {},
   "outputs": [],
   "source": [
    "### Imports\n",
    "\n",
    "## Basic\n",
    "# import numpy as np\n",
    "# import sys, os, pdb, copy, glob, subprocess, warnings\n",
    "\n",
    "## Matplotlib\n",
    "# import matplotlib as mpl\n",
    "# from matplotlib import pyplot as plt\n",
    "\n",
    "## Astropy\n",
    "# from astropy import units as apu\n",
    "# from astropy.coordinates import SkyCoord\n",
    "\n",
    "## galpy\n",
    "# from galpy import orbit\n",
    "# from galpy import potential\n",
    "# from galpy import actionAngle as aA\n",
    "# from galpy import df\n",
    "\n",
    "## Project-specific\n",
    "# sys.path.insert(0,'../../src/')\n",
    "# import sample_project.module as project_module"
   ]
  },
  {
   "cell_type": "code",
   "execution_count": null,
   "metadata": {},
   "outputs": [],
   "source": [
    "### Notebook setup\n",
    "%matplotlib inline\n",
    "plt.style.use('../../src/_matplotlib/project.mplstyle') # This must be exactly here\n",
    "%config InlineBackend.figure_format = 'retina'\n",
    "%load_ext autoreload\n",
    "%autoreload 2"
   ]
  }
 ],
 "metadata": {
  "kernel_info": {
   "name": "python3"
  },
  "kernelspec": {
   "display_name": "Python 3",
   "language": "python",
   "name": "python3"
  },
  "language_info": {
   "codemirror_mode": {
    "name": "ipython",
    "version": 3
   },
   "file_extension": ".py",
   "mimetype": "text/x-python",
   "name": "python",
   "nbconvert_exporter": "python",
   "pygments_lexer": "ipython3",
   "version": "3.6.5"
  },
  "nteract": {
   "version": "0.28.0"
  }
 },
 "nbformat": 4,
 "nbformat_minor": 4
}
