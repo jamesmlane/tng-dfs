{
 "cells": [
  {
   "cell_type": "code",
   "execution_count": null,
   "metadata": {},
   "outputs": [],
   "source": [
    "# ------------------------------------------------------------------------\n",
    "#\n",
    "# TITLE - 1_tng_analog_sample.ipynb\n",
    "# AUTHOR - James Lane\n",
    "# PROJECT - tng-dfs\n",
    "#\n",
    "# ------------------------------------------------------------------------\n",
    "#\n",
    "# Docstrings and metadata:\n",
    "'''First look at the IllustrisTNG analog sample.\n",
    "'''\n",
    "\n",
    "__author__ = \"James Lane\""
   ]
  },
  {
   "cell_type": "code",
   "execution_count": null,
   "metadata": {},
   "outputs": [],
   "source": [
    "# %load ../../src/nb_modules/nb_imports.txt\n",
    "### Imports\n",
    "\n",
    "## Basic\n",
    "import numpy as np\n",
    "import sys, os, pdb, copy, glob, time, dill as pickle\n",
    "\n",
    "## Matplotlib\n",
    "from matplotlib import pyplot as plt\n",
    "\n",
    "## Astropy\n",
    "from astropy import units as apu\n",
    "\n",
    "## Project-specific\n",
    "src_path = 'src/'\n",
    "while True:\n",
    "    if os.path.exists(src_path): break\n",
    "    if os.path.realpath(src_path).split('/')[-1] == 'tng-dfs' or os.path.realpath(src_path) == '/':\n",
    "            raise FileNotFoundError('Failed to find src/ directory.')\n",
    "    src_path = os.path.join('..',src_path)\n",
    "sys.path.insert(0,'../../src/')\n",
    "from tng_dfs import cutout as pcutout\n",
    "from tng_dfs import io as pio\n",
    "from tng_dfs import tree as ptree\n",
    "from tng_dfs import util as putil\n",
    "\n",
    "### Notebook setup\n",
    "\n",
    "%matplotlib inline\n",
    "plt.style.use('../../src/mpl/project.mplstyle') # This must be exactly here\n",
    "%config InlineBackend.figure_format = 'retina'\n",
    "%load_ext autoreload\n",
    "%autoreload 2"
   ]
  },
  {
   "cell_type": "markdown",
   "metadata": {},
   "source": [
    "### Keywords, loading, pathing"
   ]
  },
  {
   "cell_type": "code",
   "execution_count": null,
   "metadata": {},
   "outputs": [],
   "source": [
    "# %load ../../src/nb_modules/nb_setup.txt\n",
    "# Keywords\n",
    "cdict = putil.load_config_to_dict()\n",
    "keywords = ['DATA_DIR','MW_ANALOG_DIR','RO','VO','ZO','LITTLE_H',\n",
    "            'MW_MASS_RANGE']\n",
    "data_dir,mw_analog_dir,ro,vo,zo,h,mw_mass_range = \\\n",
    "    putil.parse_config_dict(cdict,keywords)\n",
    "\n",
    "# MW Analog \n",
    "mwsubs,mwsubs_vars = putil.prepare_mwsubs(mw_analog_dir,h=h,\n",
    "    mw_mass_range=mw_mass_range,return_vars=True,force_mwsubs=True)\n",
    "\n",
    "# Figure path\n",
    "fig_dir = './fig/tng_analog_sample/'\n",
    "epsen_fig_dir = '/epsen_data/scr/lane/projects/tng-dfs/figs/notebooks/tng_analog_sample/'\n",
    "os.makedirs(fig_dir,exist_ok=True)\n",
    "os.makedirs(epsen_fig_dir,exist_ok=True)\n",
    "show_plots = False\n",
    "\n",
    "# Load tree data\n",
    "# with open('../parse_sublink_trees/data/tree_primaries.pkl','rb') as handle:\n",
    "#     tree_primaries = pickle.load(handle)\n",
    "# with open('../parse_sublink_trees/data/tree_major_mergers.pkl','rb') as handle:\n",
    "#     tree_major_mergers = pickle.load(handle)\n",
    "# n_mw = len(tree_primaries)"
   ]
  },
  {
   "cell_type": "markdown",
   "metadata": {},
   "source": [
    "### Fundamental properties"
   ]
  },
  {
   "cell_type": "code",
   "execution_count": null,
   "metadata": {},
   "outputs": [],
   "source": [
    "fig = plt.figure()\n",
    "ax = fig.add_subplot(111)\n",
    "\n",
    "mass_stars = putil.mass_code_to_physical(mwsubs['mass_stars'])\n",
    "\n",
    "ax.hist(mass_stars, bins=10, histtype='step', color='k', lw=2, density=False)\n",
    "\n",
    "ax.set_xlabel(r'$M_{\\star}$ [$M_{\\odot}$]')\n",
    "ax.set_ylabel(r'$N$')\n",
    "\n",
    "fig.tight_layout()\n",
    "fig.show()"
   ]
  },
  {
   "cell_type": "code",
   "execution_count": null,
   "metadata": {},
   "outputs": [],
   "source": [
    "fig = plt.figure()\n",
    "ax = fig.add_subplot(111)\n",
    "\n",
    "mass_dm = putil.mass_code_to_physical(mwsubs['mass_dm'])\n",
    "print('minimum DM mass ',round(mass_dm.min()/1e12,4),\n",
    "      '(e12 Msun) maximum DM mass ',round(mass_dm.max()/1e12,4),\n",
    "      '(e12 Msun)')\n",
    "\n",
    "ax.hist(mass_dm, bins=10, histtype='step', color='k', lw=2, density=False)\n",
    "\n",
    "ax.set_xlabel(r'$M_{\\rm DM}$ [$M_{\\odot}$]')\n",
    "ax.set_ylabel(r'$N$')\n",
    "\n",
    "fig.tight_layout()\n",
    "fig.show()\n",
    "\n",
    "print('Least massive DM masses: ', np.sort(mass_dm)[:4]/1e12,4, 'e12 Msun')\n",
    "print('Most massive DM masses: ', np.sort(mass_dm)[-4:]/1e12,4, 'e12 Msun')"
   ]
  },
  {
   "cell_type": "code",
   "execution_count": null,
   "metadata": {},
   "outputs": [],
   "source": [
    "fig = plt.figure()\n",
    "ax = fig.add_subplot(111)\n",
    "\n",
    "hmr_stars = putil.distance_code_to_physical(mwsubs['halfmassrad_stars'])\n",
    "\n",
    "ax.hist(hmr_stars, bins=10, histtype='step', color='k', lw=2, density=False)\n",
    "\n",
    "ax.set_xlabel(r'$R_{1/2,\\star}$ [kpc]')\n",
    "ax.set_ylabel(r'$N$')\n",
    "\n",
    "fig.tight_layout()\n",
    "fig.show()\n"
   ]
  },
  {
   "attachments": {},
   "cell_type": "markdown",
   "metadata": {},
   "source": [
    "## Download Sublink Trees"
   ]
  },
  {
   "cell_type": "code",
   "execution_count": null,
   "metadata": {},
   "outputs": [],
   "source": [
    "force_download_tree = True\n",
    "tree_dir = data_dir+'mw_analogs/sublink_trees/full/'\n",
    "for i in range(len(mwsubs)):\n",
    "    z0_sid = mwsubs[i]['id']\n",
    "    sublink_filename = tree_dir+'sublink_'+str(z0_sid)+'.hdf5'\n",
    "    if os.path.exists(sublink_filename) and not force_download_tree:\n",
    "        continue\n",
    "    print('Downloading sublink tree for subfind ID: '+str(z0_sid))\n",
    "    putil.get( mwsubs[i]['trees:sublink'], directory=tree_dir, timeout=None )"
   ]
  }
 ],
 "metadata": {
  "kernel_info": {
   "name": "python3"
  },
  "kernelspec": {
   "display_name": "Python 3",
   "language": "python",
   "name": "python3"
  },
  "language_info": {
   "codemirror_mode": {
    "name": "ipython",
    "version": 3
   },
   "file_extension": ".py",
   "mimetype": "text/x-python",
   "name": "python",
   "nbconvert_exporter": "python",
   "pygments_lexer": "ipython3",
   "version": "3.10.11"
  },
  "nteract": {
   "version": "0.28.0"
  }
 },
 "nbformat": 4,
 "nbformat_minor": 4
}
