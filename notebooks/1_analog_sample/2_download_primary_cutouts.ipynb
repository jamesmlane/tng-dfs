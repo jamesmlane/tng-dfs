{
 "cells": [
  {
   "cell_type": "code",
   "execution_count": null,
   "metadata": {},
   "outputs": [],
   "source": [
    "# ------------------------------------------------------------------------\n",
    "#\n",
    "# TITLE - 2-download_primary_cutouts.ipynb\n",
    "# AUTHOR - James Lane\n",
    "# PROJECT - tng-dfs\n",
    "#\n",
    "# ------------------------------------------------------------------------\n",
    "#\n",
    "# Docstring:\n",
    "'''Download primary cutouts for merger analogs.\n",
    "'''\n",
    "\n",
    "__author__ = \"James Lane\""
   ]
  },
  {
   "cell_type": "code",
   "execution_count": null,
   "metadata": {},
   "outputs": [],
   "source": [
    "# %load ../../src/nb_modules/nb_imports.txt\n",
    "### Imports\n",
    "\n",
    "## Basic\n",
    "import numpy as np\n",
    "import sys, os, pdb, glob, dill as pickle, h5py\n",
    "\n",
    "## Matplotlib\n",
    "from matplotlib import pyplot as plt\n",
    "\n",
    "## Astropy\n",
    "from astropy import units as apu\n",
    "\n",
    "## Project-specific\n",
    "src_path = 'src/'\n",
    "while True:\n",
    "    if os.path.exists(src_path): break\n",
    "    if os.path.realpath(src_path).split('/')[-1] in ['tng-dfs','/']:\n",
    "            raise FileNotFoundError('Failed to find src/ directory.')\n",
    "    src_path = os.path.join('..',src_path)\n",
    "sys.path.insert(0,'../../src/')\n",
    "from tng_dfs import cutout as pcutout\n",
    "from tng_dfs import tree as ptree\n",
    "from tng_dfs import util as putil\n",
    "\n",
    "### Notebook setup\n",
    "\n",
    "%matplotlib inline\n",
    "plt.style.use('../../src/mpl/project.mplstyle') # This must be exactly here\n",
    "%config InlineBackend.figure_format = 'retina'\n",
    "%load_ext autoreload\n",
    "%autoreload 2"
   ]
  },
  {
   "cell_type": "markdown",
   "metadata": {},
   "source": [
    "### Keywords, loading, pathing"
   ]
  },
  {
   "cell_type": "code",
   "execution_count": null,
   "metadata": {},
   "outputs": [],
   "source": [
    "# %load ../../src/nb_modules/nb_setup.txt\n",
    "# Keywords\n",
    "cdict = putil.load_config_to_dict()\n",
    "keywords = ['DATA_DIR','MW_ANALOG_DIR','RO','VO','ZO','LITTLE_H',\n",
    "            'MW_MASS_RANGE']\n",
    "data_dir,mw_analog_dir,ro,vo,zo,h,mw_mass_range = \\\n",
    "    putil.parse_config_dict(cdict,keywords)\n",
    "\n",
    "# MW Analog \n",
    "mwsubs,mwsubs_vars = putil.prepare_mwsubs(mw_analog_dir,h=h,\n",
    "    mw_mass_range=mw_mass_range,return_vars=True,force_mwsubs=False)\n",
    "\n",
    "# # Logging setup\n",
    "log_dir = './log/'\n",
    "os.makedirs(log_dir,exist_ok=True)\n",
    "\n",
    "# # Figure path\n",
    "fig_dir = './fig/'\n",
    "# epsen_fig_dir = '/epsen_data/scr/lane/projects/tng-dfs/figs/notebooks/sample/'\n",
    "# os.makedirs(fig_dir,exist_ok=True)\n",
    "# os.makedirs(epsen_fig_dir,exist_ok=True)\n",
    "# show_plots = False\n",
    "\n",
    "# # Load tree data\n",
    "# with open('../parse_sublink_trees/data/tree_primaries.pkl','rb') as handle:\n",
    "#     tree_primaries = pickle.load(handle)\n",
    "# with open('../parse_sublink_trees/data/tree_major_mergers.pkl','rb') as handle:\n",
    "#     tree_major_mergers = pickle.load(handle)\n",
    "# n_mw = len(tree_primaries)"
   ]
  },
  {
   "cell_type": "markdown",
   "metadata": {},
   "source": [
    "### Get some information about the simulation snapshots"
   ]
  },
  {
   "cell_type": "code",
   "execution_count": null,
   "metadata": {},
   "outputs": [],
   "source": [
    "snaps = putil.get( mwsubs_vars['sim']['snapshots'] )"
   ]
  },
  {
   "cell_type": "markdown",
   "metadata": {},
   "source": [
    "### Get the sublink files"
   ]
  },
  {
   "cell_type": "code",
   "execution_count": null,
   "metadata": {},
   "outputs": [],
   "source": [
    "tree_dir = data_dir+'mw_analogs/sublink_trees/full/'\n",
    "sublink_files = np.sort(glob.glob(tree_dir+'*.hdf5'))\n",
    "n_mw = len(sublink_files)\n",
    "# assert n_mw == len(mwsubs), 'Consistency check failed.'"
   ]
  },
  {
   "cell_type": "markdown",
   "metadata": {},
   "source": [
    "### Download the cutouts for the primary subhalos"
   ]
  },
  {
   "cell_type": "code",
   "execution_count": null,
   "metadata": {},
   "outputs": [],
   "source": [
    "force_download_cutouts = False\n",
    "\n",
    "# Prepare directory structure\n",
    "for i in range(len(snaps)):\n",
    "    snap_path = data_dir+'cutouts/snap_'+str(snaps[i]['number'])+'/'\n",
    "    os.makedirs(snap_path,exist_ok=True)\n",
    "\n",
    "# Open some log files\n",
    "log_file = open(os.path.join(log_dir,'download_cutouts.log'),'w')\n",
    "exceptions = []\n",
    "\n",
    "# First loop over all primaries and download cutouts for each\n",
    "txt = 'Downloading cutouts for all primaries...\\n'+'-'*50\n",
    "print(txt)\n",
    "log_file.write(txt+'\\n')\n",
    "for i in range(n_mw):\n",
    "    \n",
    "    # Load the tree, get the subfind IDs and snapshot numbers\n",
    "    tree = ptree.SublinkTree(sublink_files[i])\n",
    "    sids = tree.get_property('SubfindID')[tree.main_branch_mask]\n",
    "    snapnums = tree.get_property('SnapNum')[tree.main_branch_mask]\n",
    "    assert mwsubs[i]['id'] == sids[0], 'Consistency check failed.'\n",
    "    z0_sid = sids[0]\n",
    "    txt = 'Getting cutouts for primary with z=0 subfind id: '+str(z0_sid)+'...'\n",
    "    print(txt)\n",
    "    log_file.write(txt+'\\n')\n",
    "\n",
    "    # Loop over all snapshots and download the cutouts\n",
    "    n_snapnums = len(snapnums)\n",
    "    primary_has_data = np.zeros(n_snapnums,dtype=bool)\n",
    "    for j in range(n_snapnums):\n",
    "        sn = snapnums[j]\n",
    "        sid = sids[j]\n",
    "        snap_path = data_dir+'mw_analogs/cutouts/snap_'+str(sn)+'/'\n",
    "        snap_filename = snap_path+'cutout_'+str(sid)+'.hdf5'\n",
    "        # Check if the cutout already exists\n",
    "        if os.path.isfile(snap_filename):\n",
    "            primary_has_data[j] = True\n",
    "            txt = 'Already have cutout for subhalo '+str(sid)+' of snapshot '+\\\n",
    "                str(sn)\n",
    "            log_file.write(txt+'\\n')\n",
    "            continue\n",
    "        # Fetch the subhalo\n",
    "        try:\n",
    "            subhalo = putil.get(snaps[sn]['url']+'subhalos/'+str(sid),\n",
    "                timeout=None)\n",
    "        except Exception as e:\n",
    "            exceptions.append((e,sn,sid))\n",
    "            txt = 'Exception raised for subhalo '+str(sid)+' of snapshot '+\\\n",
    "                str(sn)+' while fetching subhalo'\n",
    "            print(txt)\n",
    "            log_file.write(txt+'\\n')\n",
    "            continue\n",
    "        # Some consistency checks\n",
    "        assert sn == subhalo['snap']\n",
    "        assert sid == subhalo['id']\n",
    "        # Download the cutout\n",
    "        txt = 'Downloading subhalo '+str(sid)+' of snapshot '+str(sn)\n",
    "        print(txt)\n",
    "        log_file.write(txt+'\\n')\n",
    "        try:\n",
    "            _=putil.get(subhalo['cutouts']['subhalo'],directory=snap_path,\n",
    "                timeout=None)\n",
    "        except Exception as e:\n",
    "            exceptions.append((e,sn,sid))\n",
    "            txt = 'Exception raised for subhalo '+str(sid)+' of snapshot '+\\\n",
    "                str(sn)+' while downloading cutout'\n",
    "            print(txt)\n",
    "            log_file.write(txt+'\\n')\n",
    "    # Communicate if all cutouts already exist\n",
    "    if np.all(primary_has_data):\n",
    "        print('Already have all cutouts for primary')"
   ]
  },
  {
   "cell_type": "markdown",
   "metadata": {},
   "source": [
    "### Create edge-on and face-on views"
   ]
  },
  {
   "cell_type": "code",
   "execution_count": null,
   "metadata": {},
   "outputs": [],
   "source": [
    "for i in range(n_mw):\n",
    "    print('Working on galaxy '+str(i+1)+' of '+str(n_mw))\n",
    "    # if i > -1: continue\n",
    "\n",
    "    fig = plt.figure(figsize=(10, 5))\n",
    "    axs = fig.subplots(nrows=1, ncols=2)\n",
    "\n",
    "    # Get the primary\n",
    "    snapnum = mwsubs[i]['snap']\n",
    "    z0_sid = mwsubs[i]['id']\n",
    "    primary_filename = putil.get_cutout_filename(mw_analog_dir,\n",
    "        snapnum, z0_sid)\n",
    "    co = pcutout.TNGCutout(primary_filename)\n",
    "    co.center_and_rectify()\n",
    "\n",
    "    orbs = co.get_orbs(ptype='stars')\n",
    "    x, y, z = orbs.x().value, orbs.y().value, orbs.z().value\n",
    "\n",
    "    # Plot face 2d hist and then edge on 2d hist\n",
    "    N, xedges, yedges = np.histogram2d(x, y, bins=100, range=[[-50,50],[-50,50]])\n",
    "    axs[0].imshow(np.log10(N.T), origin='lower', \n",
    "        cmap=plt.cm.gray_r, vmin=1., vmax=5., \n",
    "        extent=[xedges[0], xedges[-1], yedges[0], yedges[-1]])\n",
    "    \n",
    "    N, xedges, yedges = np.histogram2d(x, z, bins=100, range=[[-50,50],[-50,50]])\n",
    "    axs[1].imshow(np.log10(N.T), origin='lower', \n",
    "        cmap=plt.cm.gray_r, vmin=1, vmax=5., \n",
    "        extent=[xedges[0], xedges[-1], yedges[0], yedges[-1]])\n",
    "\n",
    "    axs[0].set_xlabel('X [kpc]')\n",
    "    axs[0].set_ylabel('Y [kpc]')\n",
    "    axs[1].set_xlabel('X [kpc]')\n",
    "    axs[1].set_ylabel('Z [kpc]')\n",
    "    axs[0].annotate(str(z0_sid), xy=(0.05, 0.95), \n",
    "        xycoords='axes fraction', fontsize=15)\n",
    "\n",
    "    fig.tight_layout()\n",
    "    figname = os.path.join(fig_dir,'analog_sample/',str(z0_sid)+'_stellar_density.png')\n",
    "    fig.savefig(figname,bbox_inches='tight',dpi=300)\n",
    "    plt.close(fig)\n",
    "    # fig.show()"
   ]
  }
 ],
 "metadata": {
  "kernelspec": {
   "display_name": "Python 3 (ipykernel)",
   "language": "python",
   "name": "python3"
  },
  "language_info": {
   "codemirror_mode": {
    "name": "ipython",
    "version": 3
   },
   "file_extension": ".py",
   "mimetype": "text/x-python",
   "name": "python",
   "nbconvert_exporter": "python",
   "pygments_lexer": "ipython3",
   "version": "3.10.11"
  }
 },
 "nbformat": 4,
 "nbformat_minor": 4
}
