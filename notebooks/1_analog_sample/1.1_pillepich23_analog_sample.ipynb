{
 "cells": [
  {
   "cell_type": "code",
   "execution_count": null,
   "metadata": {},
   "outputs": [],
   "source": [
    "# ------------------------------------------------------------------------\n",
    "#\n",
    "# TITLE - 1.1_pillepich23_analog_sample.ipynb\n",
    "# AUTHOR - James Lane\n",
    "# PROJECT - tng-dfs\n",
    "#\n",
    "# ------------------------------------------------------------------------\n",
    "#\n",
    "# Docstrings and metadata:\n",
    "'''Download the files associated with the Pillepich (2023) sample.\n",
    "'''\n",
    "\n",
    "__author__ = \"James Lane\""
   ]
  },
  {
   "cell_type": "code",
   "execution_count": null,
   "metadata": {},
   "outputs": [],
   "source": [
    "# %load ../../src/nb_modules/nb_imports.txt\n",
    "### Imports\n",
    "\n",
    "## Basic\n",
    "import numpy as np\n",
    "import sys, os, h5py, pdb, copy, glob, time, dill as pickle\n",
    "\n",
    "## Matplotlib\n",
    "from matplotlib import pyplot as plt\n",
    "\n",
    "## Astropy\n",
    "from astropy import units as apu\n",
    "\n",
    "## Project-specific\n",
    "src_path = 'src/'\n",
    "while True:\n",
    "    if os.path.exists(src_path): break\n",
    "    if os.path.realpath(src_path).split('/')[-1] == 'tng-dfs' or os.path.realpath(src_path) == '/':\n",
    "            raise FileNotFoundError('Failed to find src/ directory.')\n",
    "    src_path = os.path.join('..',src_path)\n",
    "sys.path.insert(0,'../../src/')\n",
    "from tng_dfs import cutout as pcutout\n",
    "from tng_dfs import io as pio\n",
    "from tng_dfs import tree as ptree\n",
    "from tng_dfs import util as putil\n",
    "\n",
    "### Notebook setup\n",
    "\n",
    "%matplotlib inline\n",
    "plt.style.use('../../src/mpl/project.mplstyle') # This must be exactly here\n",
    "%config InlineBackend.figure_format = 'retina'\n",
    "%load_ext autoreload\n",
    "%autoreload 2"
   ]
  },
  {
   "cell_type": "markdown",
   "metadata": {},
   "source": [
    "### Keywords, loading, pathing"
   ]
  },
  {
   "cell_type": "code",
   "execution_count": null,
   "metadata": {},
   "outputs": [],
   "source": [
    "# %load ../../src/nb_modules/nb_setup.txt\n",
    "# Keywords\n",
    "cdict = putil.load_config_to_dict()\n",
    "keywords = ['DATA_DIR','MW_ANALOG_DIR','RO','VO','ZO','LITTLE_H',\n",
    "            'MW_MASS_RANGE']\n",
    "data_dir,mw_analog_dir,ro,vo,zo,h,mw_mass_range = \\\n",
    "    putil.parse_config_dict(cdict,keywords)\n",
    "\n",
    "# MW Analog \n",
    "mwsubs,mwsubs_vars = putil.prepare_mwsubs(mw_analog_dir,h=h,\n",
    "    mw_mass_range=mw_mass_range,return_vars=True,force_mwsubs=False,\n",
    "    bulge_disk_fraction_cuts=True)\n",
    "\n",
    "# Figure path\n",
    "fig_dir = './fig/tng_analog_sample/'\n",
    "epsen_fig_dir = '/epsen_data/scr/lane/projects/tng-dfs/figs/notebooks/tng_analog_sample/'\n",
    "os.makedirs(fig_dir,exist_ok=True)\n",
    "os.makedirs(epsen_fig_dir,exist_ok=True)\n",
    "show_plots = False\n",
    "\n",
    "# Load tree data\n",
    "# with open('../parse_sublink_trees/data/tree_primaries.pkl','rb') as handle:\n",
    "#     tree_primaries = pickle.load(handle)\n",
    "# with open('../parse_sublink_trees/data/tree_major_mergers.pkl','rb') as handle:\n",
    "#     tree_major_mergers = pickle.load(handle)\n",
    "# n_mw = len(tree_primaries)"
   ]
  },
  {
   "cell_type": "markdown",
   "metadata": {},
   "source": [
    "### Download the sample"
   ]
  },
  {
   "cell_type": "code",
   "execution_count": null,
   "metadata": {},
   "outputs": [],
   "source": [
    "\n",
    "pillepich23_url = 'http://www.tng-project.org/api/TNG50-1/files/mwm31s_hostcatalog.hdf5'\n",
    "pillepich23_dir = os.path.join(data_dir,'supplementary_data/')\n",
    "pillepich23_filename = 'mwm31s_hostcatalog.hdf5'\n",
    "\n",
    "if not os.path.exists(os.path.join(pillepich23_dir,pillepich23_filename)):\n",
    "    putil.get(pillepich23_url, directory=pillepich23_dir)\n",
    "\n",
    "p23_analogs = h5py.File(os.path.join(pillepich23_dir,pillepich23_filename),'r')"
   ]
  },
  {
   "cell_type": "code",
   "execution_count": null,
   "metadata": {},
   "outputs": [],
   "source": [
    "p23_sids = p23_analogs['SubfindID'][()]\n",
    "for id in mwsubs['id']:\n",
    "    if id not in p23_sids:\n",
    "        print(id)"
   ]
  }
 ],
 "metadata": {
  "kernel_info": {
   "name": "python3"
  },
  "kernelspec": {
   "display_name": "Python 3",
   "language": "python",
   "name": "python3"
  },
  "language_info": {
   "codemirror_mode": {
    "name": "ipython",
    "version": 3
   },
   "file_extension": ".py",
   "mimetype": "text/x-python",
   "name": "python",
   "nbconvert_exporter": "python",
   "pygments_lexer": "ipython3",
   "version": "3.10.11"
  },
  "nteract": {
   "version": "0.28.0"
  }
 },
 "nbformat": 4,
 "nbformat_minor": 4
}
