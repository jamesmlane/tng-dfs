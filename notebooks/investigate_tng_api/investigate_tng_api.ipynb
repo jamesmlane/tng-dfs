{
 "cells": [
  {
   "cell_type": "code",
   "execution_count": null,
   "metadata": {},
   "outputs": [],
   "source": [
    "# ------------------------------------------------------------------------\n",
    "#\n",
    "# TITLE - investigate_tng_api.ipynb\n",
    "# AUTHOR - James Lane\n",
    "# PROJECT - tng-dfs\n",
    "#\n",
    "# ------------------------------------------------------------------------\n",
    "#\n",
    "# Docstrings and metadata:\n",
    "'''Try out the TNG Illustris python API\n",
    "'''\n",
    "\n",
    "__author__ = \"James Lane\""
   ]
  },
  {
   "cell_type": "code",
   "execution_count": null,
   "metadata": {},
   "outputs": [],
   "source": [
    "### Imports\n",
    "\n",
    "## Basic\n",
    "import numpy as np\n",
    "import sys, os\n",
    "import h5py\n",
    "import glob\n",
    "import copy\n",
    "import dill as pickle\n",
    "\n",
    "## Matplotlib\n",
    "from matplotlib import pyplot as plt\n",
    "import matplotlib.image as mpimg\n",
    "\n",
    "## Fitting\n",
    "import scipy.optimize\n",
    "\n",
    "sys.path.insert(0,'../../src/')\n",
    "from tng_dfs import util as putil\n",
    "from tng_dfs.util import get"
   ]
  },
  {
   "cell_type": "code",
   "execution_count": null,
   "metadata": {},
   "outputs": [],
   "source": [
    "### Notebook setup\n",
    "%matplotlib inline\n",
    "plt.style.use('../../src/mpl/project.mplstyle') # This must be exactly here\n",
    "%config InlineBackend.figure_format = 'retina'\n",
    "%load_ext autoreload\n",
    "%autoreload 2"
   ]
  },
  {
   "cell_type": "code",
   "execution_count": null,
   "metadata": {},
   "outputs": [],
   "source": [
    "# Keywords\n",
    "cdict = putil.load_config_to_dict()\n",
    "keywords = ['DATA_DIR','RO','VO','ZO','LITTLE_H']\n",
    "data_dir,ro,vo,zo,h = putil.parse_config_dict(cdict,keywords)"
   ]
  },
  {
   "attachments": {},
   "cell_type": "markdown",
   "metadata": {},
   "source": [
    "# API Setup"
   ]
  },
  {
   "cell_type": "code",
   "execution_count": null,
   "metadata": {},
   "outputs": [],
   "source": [
    "# base URL\n",
    "baseURL = 'http://www.tng-project.org/api/'"
   ]
  },
  {
   "cell_type": "code",
   "execution_count": null,
   "metadata": {},
   "outputs": [],
   "source": [
    "# Get list of simulations\n",
    "r = get(baseURL)\n",
    "sim_names = [sim['name'] for sim in r['simulations']]\n",
    "tng50_indices = [sim_names.index('TNG50-'+str(i+1)) for i in range(4)]\n",
    "# Choose the lowest resolution tng50 run\n",
    "tng50_urls = [r['simulations'][i]['url'] for i in tng50_indices]\n",
    "tng50_url = tng50_urls[0]"
   ]
  },
  {
   "attachments": {},
   "cell_type": "markdown",
   "metadata": {},
   "source": [
    "# Get Milky Way Analogs from TNG50-1"
   ]
  },
  {
   "cell_type": "code",
   "execution_count": null,
   "metadata": {
    "tags": []
   },
   "outputs": [],
   "source": [
    "# Get the simulation\n",
    "sim = get( tng50_url )\n",
    "# Shows properties of the simulation\n",
    "# sim.keys()\n",
    "\n",
    "# Get a list of snapshots for the simulation\n",
    "# Each element is dict with some info\n",
    "snaps = get( sim['snapshots'] )\n",
    "# snaps[-1].keys()\n",
    "\n",
    "# Redshifts corresponding to snapshots\n",
    "snap_zs = [snap['redshift'] for snap in snaps]\n",
    "\n",
    "# Pick the present-day snapshot\n",
    "snap0 = get( snaps[-1]['url'] )\n",
    "# Shows properties of the snapshot\n",
    "# snap0.keys()\n",
    "\n",
    "# Query the API for subhalos with stellar mass in a range near that of the \n",
    "# Milky Way\n",
    "mw_mass_range = np.array([5,7])*1e10\n",
    "mw_mass_range_code = putil.mass_physical_to_code(mw_mass_range,h=h,e10=True)\n",
    "mw_search_query = '?mass_stars__gt='+str(mw_mass_range_code[0])+\\\n",
    "                       '&mass_stars__lt='+str(mw_mass_range_code[1])+\\\n",
    "                       '&primary_flag__gt=0'\n",
    "mw_search_results = get( snap0['subhalos']+mw_search_query )['results']\n",
    "print(str(len(mw_search_results))+' Milky way like galaxies found')\n",
    "n_mw = len(mw_search_results)\n",
    "\n",
    "# Get subhalo data\n",
    "force_mwsubs = False\n",
    "mwsubs_path = data_dir+'subs/mwsubs.pkl'\n",
    "if force_mwsubs or os.path.exists(mwsubs_path) == False:\n",
    "    print('Downloading subhalo data')\n",
    "    mwsubs = []\n",
    "    for i in range(len(mw_search_results)):\n",
    "        mwsubs.append( get( mw_search_results[i]['url'], timeout=None ) )\n",
    "\n",
    "    # Save subhalo data\n",
    "    print('Saving subhalo data to '+mwsubs_path)\n",
    "    with open(mwsubs_path,'wb') as f:\n",
    "        pickle.dump(mwsubs,f)\n",
    "else:\n",
    "    print('Loading subhalo data from '+mwsubs_path)\n",
    "    with open(mwsubs_path,'rb') as f:\n",
    "        mwsubs = pickle.load(f)\n",
    "    print(mwsubs_path+' has '+str(len(mwsubs))+' subhalos')\n",
    "\n",
    "# Convert to recarray \n",
    "mwsubs_dict = copy.deepcopy(mwsubs)\n",
    "mwsubs = putil.subhalo_list_to_recarray(mwsubs)"
   ]
  },
  {
   "attachments": {},
   "cell_type": "markdown",
   "metadata": {
    "tags": []
   },
   "source": [
    "# Examine the Milky Way analogs compared to a range of masses"
   ]
  },
  {
   "cell_type": "code",
   "execution_count": null,
   "metadata": {},
   "outputs": [],
   "source": [
    "print(mwsubs.dtype.names)"
   ]
  },
  {
   "cell_type": "code",
   "execution_count": null,
   "metadata": {},
   "outputs": [],
   "source": [
    "# Other mass ranges to consider\n",
    "gal_mass_ranges = np.array([[1,3],[3,5],[7,9],[9,11]])*1e10\n",
    "\n",
    "mass_range_filename = './data/massrange.pkl'\n",
    "force_mass_range = False\n",
    "if force_mass_range or not os.path.exists(mass_range_filename):\n",
    "    massrangesubs = []\n",
    "    for i in range(len(gal_mass_ranges)):\n",
    "        gal_mass_range_code = putil.mass_physical_to_code(gal_mass_ranges[i],h=h,\n",
    "                                                          e10=True)\n",
    "        gal_search_query = '?mass_stars__gt='+str(gal_mass_range_code[0])+\\\n",
    "                           '&mass_stars__lt='+str(gal_mass_range_code[1])+\\\n",
    "                           '&primary_flag__gt=0'\n",
    "        gal_search_results = get( snap0['subhalos']+gal_search_query )['results']\n",
    "        print(str(len(gal_search_results))+' Galaxies found in mass range '+str(gal_mass_ranges[i])+'x1e10')\n",
    "        print('Downloading subhalo data')\n",
    "        galsubs = []\n",
    "        for j in range(len(gal_search_results)):\n",
    "            galsubs.append( get( gal_search_results[j]['url'], timeout=None ) )\n",
    "        massrangesubs.append(putil.subhalo_list_to_recarray(galsubs))\n",
    "    with open(mass_range_filename,'wb') as f:\n",
    "        pickle.dump([massrangesubs,gal_mass_ranges],f)\n",
    "else:\n",
    "    with open(mass_range_filename,'rb') as f:\n",
    "        massrangesubs,gal_mass_ranges = pickle.load(f)"
   ]
  },
  {
   "cell_type": "code",
   "execution_count": null,
   "metadata": {},
   "outputs": [],
   "source": [
    "fig = plt.figure(figsize=(15,10))\n",
    "axs = fig.subplots(nrows=2,ncols=3)\n",
    "\n",
    "colors = ['DarkGreen','Red','DarkOrange','DodgerBlue','Navy']\n",
    "labels = ['MW','1-3','3-5','7-9','9-11']\n",
    "\n",
    "for i in range(5):\n",
    "    if i == 0:\n",
    "        thissubs = copy.deepcopy(mwsubs)\n",
    "    else:\n",
    "        thissubs = massrangesubs[i-1]\n",
    "    \n",
    "    u_mag = thissubs['stellarphotometrics_u']\n",
    "    g_mag = thissubs['stellarphotometrics_g']\n",
    "    r_mag = thissubs['stellarphotometrics_r']\n",
    "    spin_x = thissubs['spin_x']\n",
    "    spin_y = thissubs['spin_y']\n",
    "    spin_z = thissubs['spin_z']\n",
    "    spin_tot = np.sqrt( spin_x**2 + spin_y**2 + spin_z**2 )\n",
    "    hmr_stars = thissubs['halfmassrad_stars']\n",
    "    mass_stars = thissubs['mass_stars']\n",
    "    metals_halfrad = thissubs['starmetallicityhalfrad']\n",
    "    sfr_halfrad = thissubs['sfrinhalfrad']\n",
    "    \n",
    "    axs[0,0].scatter(g_mag, g_mag-r_mag, c=colors[i], edgecolor='Black', label=labels[i])\n",
    "    axs[0,1].scatter(u_mag, u_mag-r_mag, c=colors[i], edgecolor='Black')\n",
    "    axs[0,2].scatter( mass_stars, sfr_halfrad, c=colors[i], edgecolor='Black')\n",
    "\n",
    "    axs[0,0].set_xlabel(r'$G$')\n",
    "    axs[0,0].set_ylabel(r'$G-R$')\n",
    "    axs[0,1].set_xlabel(r'$U$')\n",
    "    axs[0,1].set_ylabel(r'$U-R$')\n",
    "    axs[0,2].set_xlabel('Stellar mass')\n",
    "    axs[0,2].set_ylabel('SFR')\n",
    "    axs[0,0].invert_xaxis()\n",
    "    axs[0,1].invert_xaxis()\n",
    "    \n",
    "    axs[1,0].scatter( mass_stars, spin_tot, c=colors[i], edgecolor='Black')\n",
    "    axs[1,1].scatter( hmr_stars, spin_tot, c=colors[i], edgecolor='Black')\n",
    "    axs[1,2].scatter( mass_stars, metals_halfrad, c=colors[i], edgecolor='Black')\n",
    "    axs[1,0].set_xlabel('Stellar mass')\n",
    "    axs[1,0].set_ylabel('Total spin')\n",
    "    axs[1,1].set_xlabel('Stellar half mass radius')\n",
    "    axs[1,1].set_ylabel('Total spin')\n",
    "    axs[1,2].set_xlabel('Stellar half mass radius')\n",
    "    axs[1,2].set_ylabel('Metallicity')\n",
    "\n",
    "axs[0,0].legend(fontsize=9)\n",
    "fig.savefig('./fig/analog_properties.png',dpi=300)\n",
    "fig.show()"
   ]
  },
  {
   "attachments": {},
   "cell_type": "markdown",
   "metadata": {},
   "source": [
    "# Compare snapshot vs. redshift"
   ]
  },
  {
   "cell_type": "code",
   "execution_count": null,
   "metadata": {},
   "outputs": [],
   "source": [
    "snap_nums = np.array([snap['number'] for snap in snaps])\n",
    "snap_zs = np.array([snap['redshift'] for snap in snaps])\n",
    "\n",
    "fig = plt.figure(figsize=(8,8))\n",
    "ax1 = fig.add_subplot(211)\n",
    "ax2 = fig.add_subplot(212)\n",
    "\n",
    "ax1.scatter(snap_nums[20:], snap_zs[20:], facecolor='Black', edgecolor=None, \n",
    "    s=24, alpha=0.25)\n",
    "ax1.set_xlabel(r'Snapshot number')\n",
    "ax1.set_ylabel(r'$z$')\n",
    "\n",
    "ax2.scatter(snap_nums[20:], np.log10(snap_zs[20:]+1), facecolor='Black', edgecolor=None, \n",
    "    s=24, alpha=0.25)\n",
    "ax2.set_xlabel(r'Snapshot number')\n",
    "ax2.set_ylabel(r'$\\log(1+z)$')\n",
    "\n",
    "# def power_law(x, A, n, x0, D):\n",
    "#     return A*(x/x0)**n+D\n",
    "\n",
    "# def exponential(x, A, n, x0, D):\n",
    "#     return A*np.exp(n*(x-x0))+D\n",
    "\n",
    "# popt, pcov = scipy.optimize.curve_fit(exponential, snap_nums, snap_zs, \n",
    "#     p0=[10, -1, 1, 1])\n",
    "\n",
    "# ax1.plot(np.linspace(0,100,100), exponential(np.linspace(0,100,100), *popt),\n",
    "#     c='Red', lw=2, ls='--')\n",
    "# ax2.plot(np.linspace(0,100,100), \n",
    "#     np.log10(exponential(np.linspace(0,100,100), *popt)+1), c='Red', lw=2, \n",
    "#     ls='--')\n",
    "\n",
    "fig.savefig('./fig/redshift_snapshot_relation.png',dpi=300)\n",
    "fig.show()"
   ]
  },
  {
   "attachments": {},
   "cell_type": "markdown",
   "metadata": {},
   "source": [
    "# Download Sublink Trees"
   ]
  },
  {
   "cell_type": "code",
   "execution_count": null,
   "metadata": {},
   "outputs": [],
   "source": [
    "download_trees = False\n",
    "tree_dir = data_dir+'sublink_trees/full/'\n",
    "if download_trees:\n",
    "    for i in range(n_mw):\n",
    "        get( mwsubs[i]['trees']['sublink'], directory=tree_dir, timeout=None )\n",
    "        print('Done '+str(i))\n",
    "\n",
    "# Glob the files\n",
    "sublink_files = glob.glob(data_dir+'sublink_trees/full/*.hdf5')"
   ]
  },
  {
   "attachments": {},
   "cell_type": "markdown",
   "metadata": {},
   "source": [
    "# Load an example tree"
   ]
  },
  {
   "cell_type": "code",
   "execution_count": null,
   "metadata": {},
   "outputs": [],
   "source": [
    "subhalo_n = sublink_files[0].split('/full/sublink_')[-1].strip('.hdf5')\n",
    "f = h5py.File(sublink_files[0],'r')\n",
    "for name in f:\n",
    "    print(name)"
   ]
  },
  {
   "cell_type": "code",
   "execution_count": null,
   "metadata": {},
   "outputs": [],
   "source": [
    "# # first lets get the 'main branch' i.e. all the galaxies with \n",
    "# # SubhaloID_mostmassive < ID < MainLeafProgenitorID\n",
    "# endpoints = np.unique(f['LastProgenitorID']) # this gets all of the branch 'end-points'\n",
    "# #SubhaloID between the main progenitor and its MainLeafProgenitorID are the main branch\n",
    "# mainbranchIDs = np.arange(f['SubhaloID'][0], f['MainLeafProgenitorID'][0]+1) \n",
    "# inmain = np.in1d(f['SubhaloID'], mainbranchIDs)\n",
    "# sort = np.argsort(f['SnapNum'][inmain])\n",
    "\n",
    "# #find all the galaxies that merge to the main branch (i.e. DescendantID is in the main branch IDs)\n",
    "# merges_to_main = np.in1d(f['DescendantID'][~inmain], mainbranchIDs)\n",
    "# merger_mass = f['SubhaloMassType'][:,4][~inmain][merges_to_main]*1e10\n",
    "# subhalo_arr = np.ones_like(merger_mass)*int(subhalo_n)"
   ]
  },
  {
   "attachments": {},
   "cell_type": "markdown",
   "metadata": {},
   "source": [
    "# Crawl the trees looking for galaxies higher than a certain merger ratio"
   ]
  },
  {
   "cell_type": "code",
   "execution_count": null,
   "metadata": {},
   "outputs": [],
   "source": [
    "# First get the Main branch and tree endpoints\n",
    "\n",
    "# First get the endpoints of the tree\n",
    "tree_endpoints = np.unique(f['LastProgenitorID'])\n",
    "# Now get the main branch of the tree. MainLeafProgenitorID defines the \n",
    "# end of the main branch, so all subhalos between z=0 and there are \n",
    "# contained on the main branch (depth first counting). Should be 100 of them\n",
    "# one for each snapshot available in the simulation\n",
    "tree_mbIDs = np.arange(f['SubhaloID'][0], f['MainLeafProgenitorID'][0]+1)\n",
    "tree_ismb = np.isin(f['SubhaloID'], tree_mbIDs)\n",
    "assert len(tree_mbIDs) == 100 # Sanity\n",
    "tree_mbmass = f['Mass'][tree_ismb] # DM only\n",
    "tree_mbsnap = f['SnapNum'][tree_ismb]"
   ]
  },
  {
   "cell_type": "code",
   "execution_count": null,
   "metadata": {},
   "outputs": [],
   "source": [
    "# tree_mbsnap_indx = np.argsort(tree_mbsnap)\n",
    "# tree_mbsnap_sorted = tree_mbsnap[tree_mbsnap_indx]\n",
    "# tree_mbsnap_sorted_indx = np.searchsorted(tree_mbsnap_sorted,tree_sbsnap)\n",
    "# tree_sbsnap_mbmap = np.take(tree_mbsnap_indx, tree_mbsnap_sorted_indx, mode='clip')"
   ]
  },
  {
   "cell_type": "code",
   "execution_count": null,
   "metadata": {},
   "outputs": [],
   "source": [
    "# Now parse for branches where mass ratio w.r.t. main at that time is > \n",
    "# some threshold. Use DM mass for now, should be fine\n",
    "\n",
    "# Sub-branch properties\n",
    "tree_sbmass = f['Mass'][~tree_ismb] # DM only\n",
    "tree_sbsnap = f['SnapNum'][~tree_ismb]\n",
    "\n",
    "# Map the sub-branch elements to the corresponding main branch element according\n",
    "# to snapshot number. \n",
    "# So f['Property'][~tree_ismb][i] corresponds to f['Property'][tree_ismb][tree_sbsnap_mbmap[i]]\n",
    "tree_mbsnap_indx = np.argsort(tree_mbsnap)\n",
    "tree_mbsnap_sorted = tree_mbsnap[tree_mbsnap_indx]\n",
    "tree_mbsnap_sorted_indx = np.searchsorted(tree_mbsnap_sorted,tree_sbsnap)\n",
    "tree_sbsnap_mbmap = np.take(tree_mbsnap_indx, tree_mbsnap_sorted_indx, mode='clip')\n",
    "\n",
    "# Get the mass of the primary at the time of each snap in the rest of the tree\n",
    "threshold_mratio = 0.05 # 1:20 merger ratio\n",
    "tree_sbmratio = f['Mass'][~tree_ismb] / f['Mass'][tree_ismb][tree_sbsnap_mbmap]\n",
    "tree_sbismajor_all = np.where(tree_sbmratio > threshold_mratio)[0]\n",
    "tree_sbismajor_range = np.where(np.logical_and(tree_sbmratio > threshold_mratio,\n",
    "                                         tree_sbmratio < 1))[0]\n",
    "tree_sbismajor_plus = np.where(tree_sbmratio > 1)[0]"
   ]
  },
  {
   "cell_type": "code",
   "execution_count": null,
   "metadata": {},
   "outputs": [],
   "source": [
    "# Plot the mass ratios\n",
    "fig = plt.figure()\n",
    "ax = fig.add_subplot(111)\n",
    "\n",
    "ax.hist(np.log10(tree_sbmratio), bins=50, histtype='step')\n",
    "ax.set_yscale('log')\n",
    "ax.axvspan(np.log10(threshold_mratio), 0, alpha=0.2, color='Grey')\n",
    "ax.set_xlabel('Mass ratio')\n",
    "\n",
    "fig.savefig('./fig/analog_merger_mass_ratios.png',dpi=300)\n",
    "fig.show()"
   ]
  },
  {
   "cell_type": "code",
   "execution_count": null,
   "metadata": {},
   "outputs": [],
   "source": [
    "fig = plt.figure()\n",
    "ax = fig.add_subplot(111)\n",
    "\n",
    "redshift_sbismajor = putil.snapshot_to_redshift(tree_sbsnap[tree_sbismajor_all])\n",
    "ax.hist(redshift_sbismajor, bins=20, histtype='step')\n",
    "# ax.set_yscale('log')\n",
    "ax.set_xlabel('Redshift')\n",
    "\n",
    "fig.savefig('./fig/analog_merger_redshifts.png',dpi=300)\n",
    "fig.show()"
   ]
  },
  {
   "attachments": {},
   "cell_type": "markdown",
   "metadata": {},
   "source": [
    "# Make some plots"
   ]
  },
  {
   "cell_type": "code",
   "execution_count": null,
   "metadata": {},
   "outputs": [],
   "source": [
    "make_plots = True\n",
    "\n",
    "for i in range(n_mw):\n",
    "    \n",
    "    subhalo_n = sublink_files[i].split('sublink_')[-1].split('.')[0]\n",
    "    f = h5py.File(sublink_files[i],'r')\n",
    "    \n",
    "    #first lets get the 'main branch' i.e. all the galaxies with \n",
    "    # SubhaloID_mostmassive < ID < MainLeafProgenitorID\n",
    "    endpoints = np.unique(f['LastProgenitorID']) # this gets all of the branch 'end-points'\n",
    "    #SubhaloID between the main progenitor and its MainLeafProgenitorID are the main branch\n",
    "    mainbranchIDs = np.arange(f['SubhaloID'][0], f['MainLeafProgenitorID'][0]+1) \n",
    "    inmain = np.in1d(f['SubhaloID'], mainbranchIDs)\n",
    "    sort = np.argsort(f['SnapNum'][inmain])\n",
    "    \n",
    "    #find all the galaxies that merge to the main branch (i.e. DescendantID is in the main branch IDs)\n",
    "    merges_to_main = np.in1d(f['DescendantID'][~inmain], mainbranchIDs)\n",
    "    merger_mass = f['SubhaloMassType'][:,4][~inmain][merges_to_main]*1e10\n",
    "    subhalo_arr = np.ones_like(merger_mass)*int(subhalo_n)\n",
    "    \n",
    "    if i == 0:\n",
    "        merger_mass_inds = np.array([ merger_mass,subhalo_arr ]).T\n",
    "    else:\n",
    "        merger_mass_inds = np.concatenate( (merger_mass_inds,\n",
    "                                           np.array([merger_mass,subhalo_arr]).T),\n",
    "                                           axis=0)\n",
    "\n",
    "    if make_plots:\n",
    "        # Plot the mass accumulation\n",
    "        fig = plt.figure()\n",
    "        ax = fig.add_subplot(111)\n",
    "        ax.plot(f['SnapNum'][inmain][sort],np.log10(f['Mass'][inmain][sort]*1e10))\n",
    "        ax.set_ylabel(r'$\\log_{10}(M_{\\mathrm{tot}})\\ \\mathrm{[M_{\\odot}]}$')\n",
    "        ax.set_xlabel(r'snapshot number')\n",
    "        fig.savefig('fig/subhalo_'+subhalo_n+'_mass_accumulation.png')\n",
    "        plt.close(fig)\n",
    "\n",
    "        #can plot SFR as well\n",
    "        fig = plt.figure()\n",
    "        ax = fig.add_subplot(111)\n",
    "        ax.plot(f['SnapNum'][inmain][sort],np.log10(f['SubhaloSFR'][inmain][sort]))\n",
    "        ax.set_ylabel(r'$\\log_{10}(SFR)\\ \\mathrm{[M_{\\odot}\\ yr^{-1}]}$')\n",
    "        ax.set_xlabel(r'snapshot number')\n",
    "        fig.savefig('fig/subhalo_'+subhalo_n+'_sfr.png')\n",
    "        plt.close(fig)\n",
    "\n",
    "        # Plot the stellar mass of the merger remnants\n",
    "        fig = plt.figure()\n",
    "        ax = fig.add_subplot(111)\n",
    "        ax.hist(np.log10(f['Mass'][~inmain][merges_to_main]*1e10), log=True)\n",
    "        ax.axvline(6.5, linestyle='dashed', color='Black') #rough resolution limit\n",
    "        ax.set_xlabel(r'$\\log_{10}(M_{*})\\ \\mathrm{[M_{\\odot}]}$')\n",
    "        ax.set_ylabel(r'$N$')\n",
    "        fig.savefig('fig/subhalo_'+subhalo_n+'_mass_stars_mergers.png')\n",
    "        plt.close(fig)\n",
    "    \n",
    "    print('Done '+str(i)+', subhalo: '+str(subhalo_n))\n",
    "    "
   ]
  }
 ],
 "metadata": {
  "kernel_info": {
   "name": "python3"
  },
  "kernelspec": {
   "display_name": "Python 3",
   "language": "python",
   "name": "python3"
  },
  "language_info": {
   "codemirror_mode": {
    "name": "ipython",
    "version": 3
   },
   "file_extension": ".py",
   "mimetype": "text/x-python",
   "name": "python",
   "nbconvert_exporter": "python",
   "pygments_lexer": "ipython3",
   "version": "3.10.6"
  },
  "nteract": {
   "version": "0.28.0"
  }
 },
 "nbformat": 4,
 "nbformat_minor": 4
}
