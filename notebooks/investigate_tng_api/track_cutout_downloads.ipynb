{
 "cells": [
  {
   "cell_type": "code",
   "execution_count": null,
   "metadata": {},
   "outputs": [],
   "source": [
    "# ------------------------------------------------------------------------\n",
    "#\n",
    "# TITLE - track_cutout_downloads.ipynb\n",
    "# AUTHOR - James Lane\n",
    "# PROJECT - tng-dfs\n",
    "#\n",
    "# ------------------------------------------------------------------------\n",
    "#\n",
    "# Docstring:\n",
    "'''Look and see how many cutouts we have downloaded and how many we still need \n",
    "to download.\n",
    "'''\n",
    "\n",
    "__author__ = \"James Lane\""
   ]
  },
  {
   "cell_type": "code",
   "execution_count": null,
   "metadata": {},
   "outputs": [],
   "source": [
    "### Imports\n",
    "\n",
    "## Basic\n",
    "import numpy as np\n",
    "import sys, os, pdb\n",
    "import h5py\n",
    "import glob\n",
    "import copy\n",
    "import dill as pickle\n",
    "from astropy import units as apu\n",
    "\n",
    "## Matplotlib\n",
    "import matplotlib\n",
    "from matplotlib import pyplot as plt\n",
    "\n",
    "## Galpy\n",
    "from galpy import orbit, potential, df\n",
    "import galpy.util\n",
    "\n",
    "## Scipy\n",
    "import scipy.interpolate\n",
    "\n",
    "sys.path.insert(0,'../../src/')\n",
    "from tng_dfs import util as putil\n",
    "from tng_dfs import tree as ptree\n",
    "from tng_dfs import cutout as pcutout\n",
    "from tng_dfs.util import get\n",
    "\n",
    "### Notebook setup\n",
    "%matplotlib inline\n",
    "plt.style.use('../../src/mpl/project.mplstyle') # This must be exactly here\n",
    "%config InlineBackend.figure_format = 'retina'\n",
    "%load_ext autoreload\n",
    "%autoreload 2"
   ]
  },
  {
   "cell_type": "code",
   "execution_count": null,
   "metadata": {},
   "outputs": [],
   "source": [
    "# Keywords\n",
    "cdict = putil.load_config_to_dict()\n",
    "keywords = ['DATA_DIR','RO','VO','ZO','LITTLE_H']\n",
    "data_dir,ro,vo,zo,h = putil.parse_config_dict(cdict,keywords)"
   ]
  },
  {
   "attachments": {},
   "cell_type": "markdown",
   "metadata": {},
   "source": [
    "### Functions"
   ]
  },
  {
   "attachments": {},
   "cell_type": "markdown",
   "metadata": {},
   "source": [
    "### API Setup & Milky Way Analogs from TNG50-1"
   ]
  },
  {
   "cell_type": "code",
   "execution_count": null,
   "metadata": {},
   "outputs": [],
   "source": [
    "# Base URL\n",
    "baseURL = 'http://www.tng-project.org/api/'\n",
    "# Get list of simulations\n",
    "r = get(baseURL)\n",
    "sim_names = [sim['name'] for sim in r['simulations']]\n",
    "tng50_indices = [sim_names.index('TNG50-'+str(i+1)) for i in range(4)]\n",
    "# Choose the lowest resolution tng50 run\n",
    "tng50_urls = [r['simulations'][i]['url'] for i in tng50_indices]\n",
    "tng50_url = tng50_urls[0]\n",
    "\n",
    "# Get the simulation, snapshots, snapshot redshifts\n",
    "sim = get( tng50_url )\n",
    "snaps = get( sim['snapshots'] )"
   ]
  },
  {
   "cell_type": "code",
   "execution_count": null,
   "metadata": {},
   "outputs": [],
   "source": [
    "with open('../parse_sublink_trees/data/tree_primaries.pkl','rb') as handle:\n",
    "    tree_primaries = pickle.load(handle)\n",
    "with open('../parse_sublink_trees/data/tree_major_mergers.pkl','rb') as handle:\n",
    "    tree_major_mergers = pickle.load(handle)\n",
    "n_mw = len(tree_primaries)"
   ]
  },
  {
   "cell_type": "code",
   "execution_count": null,
   "metadata": {},
   "outputs": [],
   "source": [
    "# Figure out if we have data or not for primaries\n",
    "primary_has_data = []\n",
    "\n",
    "for i in range(n_mw):\n",
    "\n",
    "    # Get the primary\n",
    "    primary = tree_primaries[i]\n",
    "    n_snap = len(primary.snapnum)\n",
    "    _primary_has_data = np.zeros(n_snap,dtype=bool)\n",
    "\n",
    "    # Check for each snapshot\n",
    "    for j in range(n_snap):\n",
    "        sn = primary.snapnum[j]\n",
    "        sid = primary.subfind_id[j]\n",
    "        snap_path = data_dir+'cutouts/snap_'+str(sn)+'/'\n",
    "        snap_filename = snap_path+'cutout_'+str(sid)+'.hdf5'\n",
    "        _primary_has_data[j] = os.path.isfile(snap_filename)\n",
    "    \n",
    "    primary_has_data.append(_primary_has_data)"
   ]
  },
  {
   "cell_type": "code",
   "execution_count": null,
   "metadata": {},
   "outputs": [],
   "source": [
    "# Now for major mergers\n",
    "major_merger_has_data = []\n",
    "\n",
    "for i in range(n_mw):\n",
    "\n",
    "    # Get the primary\n",
    "    primary = tree_primaries[i]\n",
    "    n_major = primary.n_major_mergers\n",
    "    _major_merger_has_data = []\n",
    "\n",
    "    # Loop over major mergers\n",
    "    for j in range(n_major):\n",
    "\n",
    "        major_merger = primary.tree_major_mergers[j]\n",
    "        n_snap = len(major_merger.snapnum)\n",
    "        _major_merger_has_data_snap = np.zeros(n_snap,dtype=bool)\n",
    "\n",
    "        # Check for each snapshot\n",
    "        for k in range(n_snap):\n",
    "\n",
    "            sn = major_merger.snapnum[k]\n",
    "            sid = major_merger.subfind_id[k]\n",
    "            snap_path = data_dir+'cutouts/snap_'+str(sn)+'/'\n",
    "            snap_filename = snap_path+'cutout_'+str(sid)+'.hdf5'\n",
    "            _major_merger_has_data_snap[k] = os.path.isfile(snap_filename)\n",
    "\n",
    "        _major_merger_has_data.append(_major_merger_has_data_snap)\n",
    "    major_merger_has_data.append(_major_merger_has_data)"
   ]
  },
  {
   "attachments": {},
   "cell_type": "markdown",
   "metadata": {},
   "source": [
    "### Do a super rough count of the number of halos for which we have / don't have data"
   ]
  },
  {
   "cell_type": "code",
   "execution_count": null,
   "metadata": {},
   "outputs": [],
   "source": [
    "# Primaries\n",
    "n_have = 0\n",
    "n_missing = 0\n",
    "\n",
    "for i in range(n_mw):\n",
    "\n",
    "    # Get the primary\n",
    "    primary = tree_primaries[i]\n",
    "    n_snap = len(primary.snapnum)\n",
    "\n",
    "    n_have = n_have + np.sum(primary_has_data[i])\n",
    "    n_missing = n_missing + np.sum(~primary_has_data[i])\n",
    "\n",
    "print(n_have,n_missing)\n",
    "print(n_have+n_missing)\n",
    "print(n_have/(n_have+n_missing))"
   ]
  },
  {
   "cell_type": "code",
   "execution_count": null,
   "metadata": {},
   "outputs": [],
   "source": [
    "# Major mergers\n",
    "n_have = 0\n",
    "n_missing = 0\n",
    "\n",
    "for i in range(n_mw):\n",
    "\n",
    "    # Get the primary\n",
    "    primary = tree_primaries[i]\n",
    "    n_major = primary.n_major_mergers\n",
    "\n",
    "    # Loop over major mergers\n",
    "    for j in range(n_major):\n",
    "\n",
    "        n_have = n_have + np.sum(major_merger_has_data[i][j])\n",
    "        n_missing = n_missing + np.sum(~major_merger_has_data[i][j])\n",
    "\n",
    "print(n_have,n_missing)\n",
    "print(n_have+n_missing)\n",
    "print(n_have/(n_have+n_missing))"
   ]
  }
 ],
 "metadata": {
  "kernelspec": {
   "display_name": "phd",
   "language": "python",
   "name": "python3"
  },
  "language_info": {
   "codemirror_mode": {
    "name": "ipython",
    "version": 3
   },
   "file_extension": ".py",
   "mimetype": "text/x-python",
   "name": "python",
   "nbconvert_exporter": "python",
   "pygments_lexer": "ipython3",
   "version": "3.10.11"
  },
  "orig_nbformat": 4
 },
 "nbformat": 4,
 "nbformat_minor": 2
}
