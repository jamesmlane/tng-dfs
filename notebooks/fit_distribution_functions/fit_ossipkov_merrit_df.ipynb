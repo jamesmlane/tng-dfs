{
 "cells": [
  {
   "cell_type": "code",
   "execution_count": null,
   "metadata": {},
   "outputs": [],
   "source": [
    "# ------------------------------------------------------------------------\n",
    "#\n",
    "# TITLE - fit_ossipkov_merrit_df.ipynb\n",
    "# AUTHOR - James Lane\n",
    "# PROJECT - sample_project\n",
    "#\n",
    "# ------------------------------------------------------------------------\n",
    "#\n",
    "# Docstrings and metadata:\n",
    "'''Try and do some fits with Ossipkov-Merrit distribution functions.\n",
    "'''\n",
    "\n",
    "__author__ = \"James Lane\""
   ]
  },
  {
   "cell_type": "code",
   "execution_count": null,
   "metadata": {},
   "outputs": [],
   "source": [
    "### Imports\n",
    "\n",
    "## Basic\n",
    "import numpy as np\n",
    "import sys, os, pdb, copy, glob, subprocess, warnings, dill as pickle\n",
    "\n",
    "## Matplotlib\n",
    "import matplotlib as mpl\n",
    "from matplotlib import pyplot as plt\n",
    "\n",
    "## Astropy\n",
    "from astropy import units as apu\n",
    "from astropy.coordinates import SkyCoord\n",
    "\n",
    "## galpy\n",
    "# from galpy import orbit\n",
    "# from galpy import potential\n",
    "# from galpy import actionAngle as aA\n",
    "# from galpy import df\n",
    "\n",
    "## Project-specific\n",
    "sys.path.insert(0,'../../src/')\n",
    "import tng_dfs.kinematics as pkin\n",
    "\n",
    "### Notebook setup\n",
    "\n",
    "# %matplotlib inline\n",
    "# plt.style.use('../../src/mpl/project.mplstyle') # This must be exactly here\n",
    "# %config InlineBackend.figure_format = 'retina'\n",
    "# %load_ext autoreload\n",
    "# %autoreload 2"
   ]
  },
  {
   "attachments": {},
   "cell_type": "markdown",
   "metadata": {},
   "source": [
    "## Make some plots of Ossipkov-Merrit DF anisotropy"
   ]
  },
  {
   "attachments": {},
   "cell_type": "markdown",
   "metadata": {},
   "source": [
    "### Standard anisotropy as a function of radius"
   ]
  },
  {
   "cell_type": "code",
   "execution_count": null,
   "metadata": {},
   "outputs": [],
   "source": [
    "fig = plt.figure()\n",
    "ax = fig.add_subplot(111)\n",
    "\n",
    "rs = np.logspace(-2,2,num=1001)\n",
    "ra = np.logspace(-1,1,num=10)\n",
    "\n",
    "for i in range(len(ra)):\n",
    "    beta = pkin.beta_ossipkov_merrit(rs,ra=ra[i])\n",
    "    ax.plot(rs, beta, color='Black')\n",
    "    ax.axvline(ra[i], color='Black', linestyle='dashed')\n",
    "\n",
    "# cbar = plt.colorbar()\n",
    "ax.set_xlabel('r [kpc]')\n",
    "ax.set_ylabel('beta')\n",
    "ax.set_xscale('log')\n",
    "\n",
    "fig.show()"
   ]
  },
  {
   "attachments": {},
   "cell_type": "markdown",
   "metadata": {},
   "source": [
    "### Flexible anisotropy as a function of radius"
   ]
  },
  {
   "cell_type": "code",
   "execution_count": null,
   "metadata": {},
   "outputs": [],
   "source": [
    "fig = plt.figure()\n",
    "ax = fig.add_subplot(111)\n",
    "\n",
    "rs = np.logspace(-2,2,num=1001)\n",
    "ra = 1\n",
    "alpha = np.linspace(-0.5,0.5,num=10)\n",
    "\n",
    "for i in range(len(alpha)):\n",
    "    beta = pkin.beta_any_alpha_cuddeford91(rs,ra=ra,alpha=alpha[i])\n",
    "    ax.plot(rs, beta, color='Black')\n",
    "    ax.axhline(alpha[i], color='Black', linestyle='dashed')\n",
    "\n",
    "ax.set_xlabel('r [kpc]')\n",
    "ax.set_ylabel('beta')\n",
    "ax.set_xscale('log')\n",
    "ax.axvline(ra, color='Black', linestyle='dotted')\n",
    "\n",
    "fig.show()"
   ]
  },
  {
   "attachments": {},
   "cell_type": "markdown",
   "metadata": {},
   "source": [
    "### Load some data and try and do some fits at $z=0$\n",
    "\n",
    "What likelihood to use? Perhaps just use weighted least squares on the binned \n",
    "data to begin with\n",
    "\n",
    "\n",
    "Then compute the reduced chi square statistic on the binned data.\n",
    "\n",
    "$\\Chi^{2}_{\\nu} = \\Chi^{2}/\\nu$\n",
    "$\\nu = m - n$\n",
    "\n",
    "\n",
    "$n$ is the number of observations, $m$ is the number of fitted parameters"
   ]
  },
  {
   "cell_type": "markdown",
   "metadata": {},
   "source": []
  }
 ],
 "metadata": {
  "kernel_info": {
   "name": "python3"
  },
  "kernelspec": {
   "display_name": "james",
   "language": "python",
   "name": "python3"
  },
  "language_info": {
   "codemirror_mode": {
    "name": "ipython",
    "version": 3
   },
   "file_extension": ".py",
   "mimetype": "text/x-python",
   "name": "python",
   "nbconvert_exporter": "python",
   "pygments_lexer": "ipython3",
   "version": "3.10.9"
  },
  "nteract": {
   "version": "0.28.0"
  },
  "vscode": {
   "interpreter": {
    "hash": "39281e2d1d208f5d5f10b92e49c40383b657448f443f22dc78686b7e0f8179a6"
   }
  }
 },
 "nbformat": 4,
 "nbformat_minor": 4
}
